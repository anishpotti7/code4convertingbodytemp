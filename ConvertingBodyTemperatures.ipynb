{
 "cells": [
  {
   "cell_type": "code",
   "execution_count": 5,
   "id": "f29755e2",
   "metadata": {},
   "outputs": [],
   "source": [
    "# Celsius to Fahrenheit\n",
    "def Celsius_to_Fahrenheit(Celsius):\n",
    "    return (Celsius * 9/5) + 32 \n",
    "\n",
    "# Fahrenheit to Celsius \n",
    "def Fahrenheit_to_Celsius(Fahrenheit):\n",
    "    return (Fahrenheit - 32) * 5/9"
   ]
  },
  {
   "cell_type": "code",
   "execution_count": 6,
   "id": "35fb1520",
   "metadata": {},
   "outputs": [
    {
     "name": "stdout",
     "output_type": "stream",
     "text": [
      "Choose the conversion direction.\n",
      "Put C for Celsius to Fahrenheit or F for Fahrenheit to Celsius\n",
      "Enter your choice: C\n",
      "Enter the temperature: 36.5\n",
      "36.5 degrees Celsius is 97.7 degrees Fahrenheit\n"
     ]
    }
   ],
   "source": [
    "# Setting dictionary to mapping the user input to the function\n",
    "conversion_features = {\n",
    "    'c': Celsius_to_Fahrenheit,\n",
    "    'f': Fahrenheit_to_Celsius\n",
    "    \n",
    "}\n",
    "\n",
    "print(\"Choose the conversion direction.\")\n",
    "print(\"Put C for Celsius to Fahrenheit or F for Fahrenheit to Celsius\")\n",
    "\n",
    "choice = input(\"Enter your choice: \").strip().lower()\n",
    "\n",
    "if choice in conversion_features: \n",
    "    temperature = float(input(\"Enter the temperature: \"))\n",
    "    \n",
    "    # Conversion \n",
    "    converted_temperature = conversion_features[choice](temperature)\n",
    "    \n",
    "    print(f\"{temperature} degrees {'Celsius' if choice == 'c' else 'Fahrenheit'} is {converted_temperature} degrees {'Fahrenheit' if choice == 'c' else 'Celsius'}\")\n",
    "\n",
    "else:\n",
    "    print(\"This is not a valid input. Please enter a C or a F.\")"
   ]
  },
  {
   "cell_type": "code",
   "execution_count": null,
   "id": "10f48934",
   "metadata": {},
   "outputs": [],
   "source": []
  },
  {
   "cell_type": "code",
   "execution_count": null,
   "id": "3ee3dde1",
   "metadata": {},
   "outputs": [],
   "source": []
  }
 ],
 "metadata": {
  "kernelspec": {
   "display_name": "Python 3 (ipykernel)",
   "language": "python",
   "name": "python3"
  },
  "language_info": {
   "codemirror_mode": {
    "name": "ipython",
    "version": 3
   },
   "file_extension": ".py",
   "mimetype": "text/x-python",
   "name": "python",
   "nbconvert_exporter": "python",
   "pygments_lexer": "ipython3",
   "version": "3.11.4"
  }
 },
 "nbformat": 4,
 "nbformat_minor": 5
}
